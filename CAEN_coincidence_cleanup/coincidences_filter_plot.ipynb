{
 "cells": [
  {
   "cell_type": "markdown",
   "metadata": {},
   "source": [
    " This script takes the CSV output of CAEN data in coincidence mode, checks for rogue entries which are not in coincidence.  It then deletes those, computes and histograms the coincidance time.\n",
    " Finally, it performs the following modifications to the cleaned data:\n",
    "  * places every 2nd line next to the previous line.  This way every line represents a single coincidence event\n",
    "  * writes the modified, cleaned data into a tab separated value (TSV) file.\n",
    " \n",
    " Author:  Areg Danagoulian (aregjan@mit.edu)\n",
    " \n",
    " Date of creation: 10.09.2024\n",
    " "
   ]
  },
  {
   "cell_type": "code",
   "execution_count": 9,
   "metadata": {},
   "outputs": [
    {
     "name": "stdout",
     "output_type": "stream",
     "text": [
      "[[0.00000000e+00 0.00000000e+00 2.30338920e+10 ... 7.50220000e+01\n",
      "  1.80000000e+01            nan]\n",
      " [0.00000000e+00 0.00000000e+00 7.72589480e+10 ... 3.19019000e+02\n",
      "  4.80000000e+01            nan]\n",
      " [0.00000000e+00 0.00000000e+00 7.72594720e+10 ... 3.57581000e+01\n",
      "  2.20000000e+01            nan]\n",
      " ...\n",
      " [0.00000000e+00 0.00000000e+00 3.00010537e+14 ... 7.92288000e+01\n",
      "  1.50000000e+01            nan]\n",
      " [0.00000000e+00 0.00000000e+00 3.00027738e+14 ... 4.45925000e+02\n",
      "  5.90000000e+01            nan]\n",
      " [0.00000000e+00 0.00000000e+00 3.00064042e+14 ... 3.64593000e+01\n",
      "  1.70000000e+01            nan]]\n"
     ]
    }
   ],
   "source": [
    "import numpy as np\n",
    "import matplotlib.pyplot as plt\n",
    "\n",
    "\n",
    "# Specify the file path.  Modify this for your own data\n",
    "file_path = 'DataR_run_33.CSV'\n",
    "#file_path = 'SDataF_run_50.CSV'\n",
    "\n",
    "# Read the CSV file, skipping the header, and specifying the delimiter\n",
    "data = np.genfromtxt(file_path, delimiter=';', skip_header=1)\n",
    "\n",
    "# Display the contents of the numpy array\n",
    "print(data)"
   ]
  },
  {
   "cell_type": "code",
   "execution_count": 10,
   "metadata": {},
   "outputs": [],
   "source": [
    "sorted_data = data[data[:, 2].argsort()] #sort based on time"
   ]
  },
  {
   "cell_type": "code",
   "execution_count": 11,
   "metadata": {
    "scrolled": true
   },
   "outputs": [
    {
     "name": "stdout",
     "output_type": "stream",
     "text": [
      "Caught a rogue entry: 54\n",
      "Caught a rogue entry: 127\n",
      "Caught a rogue entry: 186\n",
      "Caught a rogue entry: 291\n",
      "Caught a rogue entry: 368\n",
      "Caught a rogue entry: 395\n",
      "Caught a rogue entry: 400\n",
      "Caught a rogue entry: 555\n",
      "Caught a rogue entry: 644\n",
      "Caught a rogue entry: 737\n",
      "Caught a rogue entry: 754\n",
      "Caught a rogue entry: 809\n",
      "Caught a rogue entry: 868\n",
      "Caught a rogue entry: 917\n",
      "Caught a rogue entry: 930\n",
      "Caught a rogue entry: 957\n",
      "Caught a rogue entry: 1004\n",
      "Caught a rogue entry: 1035\n",
      "Caught a rogue entry: 1118\n",
      "Caught a rogue entry: 1211\n",
      "Caught a rogue entry: 1258\n",
      "Caught a rogue entry: 1455\n",
      "Caught a rogue entry: 1480\n",
      "Caught a rogue entry: 1491\n",
      "Caught a rogue entry: 1492\n",
      "Caught a rogue entry: 1735\n",
      "Caught a rogue entry: 1916\n",
      "Caught a rogue entry: 2187\n",
      "Caught a rogue entry: 2228\n",
      "Caught a rogue entry: 2301\n",
      "Caught a rogue entry: 2362\n",
      "Caught a rogue entry: 2415\n",
      "Caught a rogue entry: 2476\n",
      "Caught a rogue entry: 2627\n",
      "Caught a rogue entry: 2640\n",
      "Caught a rogue entry: 2755\n",
      "Caught a rogue entry: 2806\n",
      "Caught a rogue entry: 2821\n",
      "Caught a rogue entry: 2898\n",
      "Caught a rogue entry: 2993\n",
      "Caught a rogue entry: 3014\n",
      "Caught a rogue entry: 3069\n",
      "Caught a rogue entry: 3114\n",
      "Caught a rogue entry: 3239\n",
      "Caught a rogue entry: 3432\n",
      "Caught a rogue entry: 3555\n",
      "Caught a rogue entry: 3592\n",
      "Caught a rogue entry: 3637\n",
      "Caught a rogue entry: 3788\n",
      "Caught a rogue entry: 3845\n",
      "Caught a rogue entry: 4042\n",
      "Caught a rogue entry: 4043\n",
      "Caught a rogue entry: 4044\n",
      "Caught a rogue entry: 4109\n",
      "Caught a rogue entry: 4130\n",
      "Caught a rogue entry: 4345\n",
      "Caught a rogue entry: 4390\n",
      "Caught a rogue entry: 4515\n",
      "Caught a rogue entry: 4572\n",
      "Caught a rogue entry: 4695\n",
      "Caught a rogue entry: 4758\n",
      "Caught a rogue entry: 4925\n",
      "Caught a rogue entry: 4952\n",
      "Caught a rogue entry: 4963\n",
      "Caught a rogue entry: 5014\n",
      "Caught a rogue entry: 5123\n",
      "Caught a rogue entry: 5144\n",
      "Caught a rogue entry: 5239\n",
      "Caught a rogue entry: 5250\n",
      "Caught a rogue entry: 5415\n",
      "Caught a rogue entry: 5484\n",
      "Caught a rogue entry: 5519\n",
      "Caught a rogue entry: 5524\n",
      "Caught a rogue entry: 5635\n",
      "Caught a rogue entry: 5704\n",
      "Caught a rogue entry: 5757\n",
      "Caught a rogue entry: 5924\n",
      "Caught a rogue entry: 5929\n",
      "Caught a rogue entry: 5940\n",
      "Caught a rogue entry: 6061\n",
      "Caught a rogue entry: 6166\n",
      "Caught a rogue entry: 6191\n",
      "Caught a rogue entry: 6210\n",
      "Caught a rogue entry: 6227\n",
      "Caught a rogue entry: 6290\n",
      "Caught a rogue entry: 6401\n",
      "Caught a rogue entry: 6504\n",
      "Caught a rogue entry: 6523\n",
      "Caught a rogue entry: 6638\n",
      "Caught a rogue entry: 6673\n",
      "Caught a rogue entry: 6700\n",
      "Caught a rogue entry: 6701\n",
      "Caught a rogue entry: 6708\n",
      "Caught a rogue entry: 6895\n",
      "Caught a rogue entry: 6966\n",
      "Caught a rogue entry: 7015\n",
      "Caught a rogue entry: 7040\n",
      "Caught a rogue entry: 7041\n",
      "Caught a rogue entry: 7136\n",
      "Caught a rogue entry: 7445\n",
      "Caught a rogue entry: 7514\n",
      "Caught a rogue entry: 7659\n",
      "Caught a rogue entry: 7736\n",
      "Caught a rogue entry: 7779\n",
      "Caught a rogue entry: 7856\n",
      "Caught a rogue entry: 7863\n",
      "Caught a rogue entry: 7896\n",
      "Caught a rogue entry: 7929\n",
      "Caught a rogue entry: 7956\n",
      "Caught a rogue entry: 8349\n",
      "Caught a rogue entry: 8376\n",
      "Caught a rogue entry: 8417\n",
      "Caught a rogue entry: 8432\n",
      "Caught a rogue entry: 8511\n",
      "Caught a rogue entry: 8552\n",
      "Caught a rogue entry: 8553\n",
      "Caught a rogue entry: 8688\n",
      "Caught a rogue entry: 8701\n",
      "Caught a rogue entry: 8734\n",
      "Caught a rogue entry: 8761\n",
      "Caught a rogue entry: 8894\n",
      "Caught a rogue entry: 8955\n",
      "Caught a rogue entry: 9076\n",
      "Caught a rogue entry: 9077\n",
      "Caught a rogue entry: 9166\n",
      "Caught a rogue entry: 9279\n",
      "Caught a rogue entry: 9468\n",
      "Caught a rogue entry: 9481\n",
      "Caught a rogue entry: 9510\n",
      "Caught a rogue entry: 9541\n",
      "Caught a rogue entry: 9654\n",
      "Caught a rogue entry: 9673\n",
      "Caught a rogue entry: 9674\n",
      "Caught a rogue entry: 9827\n",
      "Caught a rogue entry: 9886\n",
      "Caught a rogue entry: 9937\n",
      "Caught a rogue entry: 9986\n",
      "Caught a rogue entry: 10129\n",
      "Caught a rogue entry: 10214\n",
      "Caught a rogue entry: 10267\n",
      "Caught a rogue entry: 10308\n",
      "Caught a rogue entry: 10387\n",
      "Caught a rogue entry: 10388\n",
      "Number of rogue entries, total: 143\n"
     ]
    }
   ],
   "source": [
    "#Start the search for rogue events.  Record their positions.\n",
    "#IMPORTANT: remember, the time stamps are in picoseconds\n",
    "rogues=0\n",
    "rows_to_delete=[]\n",
    "for i in range(sorted_data.shape[0]):\n",
    "    if(i>0 and i<sorted_data.shape[0]-1): #for all lines except the first one and the last one\n",
    "            if(abs( sorted_data[i,2]-sorted_data[i-1,2])>96e+3 and \\\n",
    "               abs( sorted_data[i,2]-sorted_data[i+1,2])>96e+3): #check every entry against the previous and next for coincidence of <96ns\n",
    "                print(\"Caught a rogue entry: %i\" % i)\n",
    "                rows_to_delete.append(i)\n",
    "                rogues+=1\n",
    "#        print(\"%i\\t %i\" % (sorted_data[i][1] , (sorted_data[i][2]/1000.0)) )\n",
    "print(\"Number of rogue entries, total: %i\" % rogues)"
   ]
  },
  {
   "cell_type": "code",
   "execution_count": 12,
   "metadata": {},
   "outputs": [
    {
     "data": {
      "text/plain": [
       "array([2.30338800e+07, 2.30338920e+07, 7.72589480e+07, 7.72589480e+07,\n",
       "       7.72594720e+07, 7.72594720e+07, 2.99792176e+08, 2.99792180e+08,\n",
       "       4.87178096e+08, 4.87178108e+08, 5.03244896e+08, 5.03244920e+08,\n",
       "       6.81646404e+08, 6.81646404e+08, 7.17476512e+08, 7.17476520e+08,\n",
       "       8.04540200e+08, 8.04540204e+08, 8.72614820e+08, 8.72614828e+08])"
      ]
     },
     "execution_count": 12,
     "metadata": {},
     "output_type": "execute_result"
    }
   ],
   "source": [
    "clean_data = np.delete(sorted_data, rows_to_delete, axis=0) #delete the rogue entries\n",
    "clean_data[0:20,2]*1e-3 #print the first twenty entries of coincidence in nanoseconds"
   ]
  },
  {
   "cell_type": "code",
   "execution_count": 13,
   "metadata": {},
   "outputs": [],
   "source": [
    "coincidence_time=np.empty(0)\n",
    "total_energy=np.empty(0) #the sum of det0+det1\n",
    "for i in range(1,clean_data.shape[0],2):\n",
    "#        print(i,1e-3*(clean_data[i,2]-clean_data[i-1,2]))\n",
    "        coincidence_time=np.append(coincidence_time,clean_data[i,2]-clean_data[i-1,2])\n",
    "        total_energy=np.append(total_energy,clean_data[i,4]+clean_data[i-1,4]) #use calibrated energy. Use col3 for uncalibrated"
   ]
  },
  {
   "cell_type": "code",
   "execution_count": 14,
   "metadata": {
    "scrolled": true
   },
   "outputs": [
    {
     "data": {
      "text/plain": [
       "Text(0.5, 0, 'Coincidence time [ns]')"
      ]
     },
     "execution_count": 14,
     "metadata": {},
     "output_type": "execute_result"
    },
    {
     "data": {
      "image/png": "[encoded data removed]",
      "text/plain": [
       "<Figure size 432x288 with 1 Axes>"
      ]
     },
     "metadata": {
      "needs_background": "light"
     },
     "output_type": "display_data"
    }
   ],
   "source": [
    "plt.figure(0)\n",
    "plt.hist(coincidence_time*1e-3,bins=100) #multiply coincidence time by 1e-3 to convert from pico to nanosec\n",
    "plt.xlabel('Coincidence time [ns]')"
   ]
  },
  {
   "cell_type": "code",
   "execution_count": 20,
   "metadata": {},
   "outputs": [
    {
     "data": {
      "text/plain": [
       "Text(0.5, 0, 'Det0+Det1 [keV] <-- this may be miscalibrated')"
      ]
     },
     "execution_count": 20,
     "metadata": {},
     "output_type": "execute_result"
    },
    {
     "data": {
      "image/png": "[encoded data removed]",
      "text/plain": [
       "<Figure size 432x288 with 1 Axes>"
      ]
     },
     "metadata": {
      "needs_background": "light"
     },
     "output_type": "display_data"
    }
   ],
   "source": [
    "plt.figure(1)\n",
    "plt.hist(total_energy,bins=100,range=[0,1400])\n",
    "plt.title('Energy sum of the two detectors in coincidence \\n from a 137Cs source')\n",
    "plt.grid(True)\n",
    "plt.xlabel('Det0+Det1 [keV] <-- this may be miscalibrated')"
   ]
  },
  {
   "cell_type": "markdown",
   "metadata": {},
   "source": [
    "Now, let's take the clean_data, let's drop the last odd entry, and let's \"reshape\" it, i.e. let's palce every 2nd entry next to the previous entry.  The result should be lines which represent single coincidence events.\n",
    "\n",
    "Save the results in a tab separated value (tsv) file for future use."
   ]
  },
  {
   "cell_type": "code",
   "execution_count": 16,
   "metadata": {},
   "outputs": [
    {
     "name": "stdout",
     "output_type": "stream",
     "text": [
      "Caught an odd entry, deleting\n",
      "[0.00000000e+00 0.00000000e+00 3.00007593e+14 1.48000000e+02\n",
      " 1.03769000e+02 2.30000000e+01            nan]\n",
      "[0.00000000e+00 1.00000000e+00 3.00007593e+14 6.80000000e+01\n",
      " 7.20460000e+01 1.40000000e+01            nan]\n",
      "[0.00000000e+00 0.00000000e+00 3.00064042e+14 5.20000000e+01\n",
      " 3.64593000e+01 1.70000000e+01            nan]\n",
      "Data saved to DataR_run_33_cleaned.tsv\n"
     ]
    }
   ],
   "source": [
    "output_file = file_path.split('.')[0]+\"_cleaned.tsv\"\n",
    "\n",
    "#clean_data might have a trailing odd number.  Delete it.\n",
    "if(clean_data.shape[0]%2==1):\n",
    "    print(\"Caught an odd entry, deleting\")\n",
    "    print(clean_data[-3])\n",
    "    print(clean_data[-2])\n",
    "    print(clean_data[-1])\n",
    "    clean_data=clean_data[:-1] \n",
    "    \n",
    "#take clean_data and place every 2nd row next to the previous row:    \n",
    "clean_data_reshaped = clean_data.reshape(-1, 2 * clean_data.shape[1])\n",
    "\n",
    "# Save the numpy array as a tab-separated value file\n",
    "header=\"board\\tchannel\\ttime[ps]\\tE\\tE_calib\\tE_short\\tFlag\\tboard\\tchannel\\ttime[ps]\\tE\\tE_calib\\tE_short\\tFlag\"\n",
    "np.savetxt(output_file, clean_data_reshaped, delimiter='\\t', fmt='%0.2f',header=header)\n",
    "\n",
    "print(f\"Data saved to {output_file}\")"
   ]
  },
  {
   "cell_type": "code",
   "execution_count": null,
   "metadata": {},
   "outputs": [],
   "source": []
  }
 ],
 "metadata": {
  "kernelspec": {
   "display_name": "Python 3",
   "language": "python",
   "name": "python3"
  },
  "language_info": {
   "codemirror_mode": {
    "name": "ipython",
    "version": 3
   },
   "file_extension": ".py",
   "mimetype": "text/x-python",
   "name": "python",
   "nbconvert_exporter": "python",
   "pygments_lexer": "ipython3",
   "version": "3.8.5"
  }
 },
 "nbformat": 4,
 "nbformat_minor": 4
}
